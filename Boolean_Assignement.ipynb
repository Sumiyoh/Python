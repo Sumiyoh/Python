{
  "nbformat": 4,
  "nbformat_minor": 0,
  "metadata": {
    "colab": {
      "name": "Boolean_Assignement.ipynb",
      "provenance": [],
      "include_colab_link": true
    },
    "kernelspec": {
      "name": "python3",
      "display_name": "Python 3"
    }
  },
  "cells": [
    {
      "cell_type": "markdown",
      "metadata": {
        "id": "view-in-github",
        "colab_type": "text"
      },
      "source": [
        "<a href=\"https://colab.research.google.com/github/Sumiyoh/Python/blob/main/Boolean_Assignement.ipynb\" target=\"_parent\"><img src=\"https://colab.research.google.com/assets/colab-badge.svg\" alt=\"Open In Colab\"/></a>"
      ]
    },
    {
      "cell_type": "code",
      "metadata": {
        "id": "7JIFn6BP4M0R",
        "outputId": "e01310e0-3b0d-44a9-efa1-e9f45274a500",
        "colab": {
          "base_uri": "https://localhost:8080/",
          "height": 35
        }
      },
      "source": [
        "#Declare a boolean value and store it in a variable. \n",
        "a  = True\n",
        "\n",
        "\n",
        "\n",
        "#Check the type and print the id of the same.\n",
        "print(type(a),id(a))\n",
        "\n",
        "\n"
      ],
      "execution_count": 1,
      "outputs": [
        {
          "output_type": "stream",
          "text": [
            "<class 'bool'> 10302848\n"
          ],
          "name": "stdout"
        }
      ]
    },
    {
      "cell_type": "code",
      "metadata": {
        "id": "o9bjjhN64kAP",
        "outputId": "6ac840c3-5a5d-4ce5-9c41-055f68ffc14f",
        "colab": {
          "base_uri": "https://localhost:8080/",
          "height": 35
        }
      },
      "source": [
        "#Take one boolean value between 0 - 256.\n",
        "#Assign it to two different variables.\n",
        "a = bool(1)\n",
        "b = bool(1)\n",
        "\n",
        "\n",
        "#Check the id of both the variables. It should come same. Check why?\n",
        "print(id(a),id(b))\n",
        "# Same value is allocated to both the variables and hence id is the same.\n",
        "\n",
        "\n",
        "\n",
        "\n",
        "\n",
        "\n",
        "\n"
      ],
      "execution_count": 2,
      "outputs": [
        {
          "output_type": "stream",
          "text": [
            "10302848 10302848\n"
          ],
          "name": "stdout"
        }
      ]
    },
    {
      "cell_type": "code",
      "metadata": {
        "id": "yr4ETGSf4l5y",
        "outputId": "c2d0fd06-99f9-4171-d188-f6d6ee09e384",
        "colab": {
          "base_uri": "https://localhost:8080/",
          "height": 139
        }
      },
      "source": [
        "#Arithmatic Operations on boolean data\n",
        "#Take two different boolean values.\n",
        "#Store them in two different variables.\n",
        "\n",
        "a = False\n",
        "b = True\n",
        "\n",
        "#Do below operations on them:-\n",
        "    #Find sum of both values\n",
        "print(a+b)\n",
        "    \n",
        "\n",
        "\n",
        "    #Find differce between them\n",
        "print(a-b)\n",
        "\n",
        "\n",
        "    #Find the product of both.\n",
        "\n",
        "print(a*b)\n",
        "\n",
        "    #Find value after dividing first value with second value\n",
        "    \n",
        "print(a/b)\n",
        "    \n",
        "    #Find the remainder after dividing first value with second value\n",
        "    \n",
        "print(a%b)\n",
        "    \n",
        "    #Find the quotient after dividing first value with second value\n",
        "    \n",
        "print(a//b)\n",
        "    \n",
        "    #Find the result of first value to the power of second value.\n",
        "    \n",
        "print(a**b)\n",
        "\n",
        "\n",
        "\n",
        "\n",
        "\n",
        "\n",
        "\n",
        "\n",
        "\n",
        "    "
      ],
      "execution_count": 3,
      "outputs": [
        {
          "output_type": "stream",
          "text": [
            "1\n",
            "-1\n",
            "0\n",
            "0.0\n",
            "0\n",
            "0\n",
            "0\n"
          ],
          "name": "stdout"
        }
      ]
    },
    {
      "cell_type": "code",
      "metadata": {
        "id": "xG4mX84E4n2O",
        "outputId": "24b0b1e8-3351-4a75-c0c8-82af66f40a63",
        "colab": {
          "base_uri": "https://localhost:8080/",
          "height": 87
        }
      },
      "source": [
        "#Comparison Operators on boolean values\n",
        "#Take two different boolean values.\n",
        "#Store them in two different variables.\n",
        "a = True\n",
        "b = False\n",
        "\n",
        "\n",
        "\n",
        "#Do below operations on them:-\n",
        "    #Compare these two values with below operator:-\n",
        "        #Greater than, '>'\n",
        "print(a>b,type(a>b))  \n",
        "\n",
        "\n",
        "        #less than, '<'\n",
        "print(a<b,type(a<b))   \n",
        "\n",
        "        #Greater than or equal to, '>='\n",
        "print(a>=b,type(a>=b))\n",
        "\n",
        "        #Less than or equal to, '<='    \n",
        "\n",
        "print(a<=b,type(a<=b))\n",
        "#Observe their output(return type should be boolean)\n",
        "\n",
        "\n",
        "\n",
        "\n",
        "\n",
        "\n",
        "\n",
        "\n"
      ],
      "execution_count": 5,
      "outputs": [
        {
          "output_type": "stream",
          "text": [
            "True <class 'bool'>\n",
            "False <class 'bool'>\n",
            "True <class 'bool'>\n",
            "False <class 'bool'>\n"
          ],
          "name": "stdout"
        }
      ]
    },
    {
      "cell_type": "code",
      "metadata": {
        "id": "TUIo2Z9V4qBJ"
      },
      "source": [
        "#Equality Operator\n",
        "#Take two different boolean values.\n",
        "#Store them in two different variables.\n",
        "a =True\n",
        "b = False\n",
        "\n",
        "\n",
        "#Equuate them using equality operator (==, !=)\n",
        "c = a==b\n",
        "d = a!=b\n",
        "\n",
        "\n",
        "#Observe the output(return type should be boolean)\n",
        "print(c,type(c))\n",
        "print(d,type(d))\n",
        "\n",
        "\n",
        "\n",
        "\n",
        "\n",
        "\n"
      ],
      "execution_count": null,
      "outputs": []
    },
    {
      "cell_type": "code",
      "metadata": {
        "id": "XukEq5E44rxv",
        "outputId": "df5f3b75-0937-42fd-8ae9-818194dfbfeb",
        "colab": {
          "base_uri": "https://localhost:8080/",
          "height": 191
        }
      },
      "source": [
        "#Logical operators\n",
        "#Observe the output of below code\n",
        "#Cross check the output manually\n",
        "\n",
        "print(True and True)        #----------------------------------------->Output is True\n",
        "print(False and True)        #----------------------------------------->Output is False\n",
        "print(True and False)        #----------------------------------------->Output is False\n",
        "print(False and False)       #----------------------------------------->Output is False\n",
        "\n",
        "print(True or True)          #----------------------------------------->Output is True\n",
        "print(False or True)         #----------------------------------------->Output is True\n",
        "print(True or False)         #----------------------------------------->Output is True\n",
        "print(False or False)        #----------------------------------------->Output is False\n",
        "\n",
        "print(not True)              #----------------------------------------->Output is False\n",
        "print(not False)             #----------------------------------------->Output is True"
      ],
      "execution_count": 6,
      "outputs": [
        {
          "output_type": "stream",
          "text": [
            "True\n",
            "False\n",
            "False\n",
            "False\n",
            "True\n",
            "True\n",
            "True\n",
            "False\n",
            "False\n",
            "True\n"
          ],
          "name": "stdout"
        }
      ]
    },
    {
      "cell_type": "code",
      "metadata": {
        "id": "02jPgt094vK-",
        "outputId": "785114e8-c981-4843-fc59-fdfc1be84013",
        "colab": {
          "base_uri": "https://localhost:8080/",
          "height": 121
        }
      },
      "source": [
        "#Bitwise Operators\n",
        "#Do below operations on the values provided below:-\n",
        "    #Bitwise and(&) -----------------------------------------> True, True    -------> Output is True\n",
        "    \n",
        "\n",
        "\n",
        "    #Bitwise or(|)  -----------------------------------------> True, False   -------> Output is True\n",
        "\n",
        "\n",
        "\n",
        "    #Bitwise(^)     -----------------------------------------> True, False   -------> Output is True\n",
        "\n",
        "  \n",
        "\n",
        "    #Bitwise negation(~) ------------------------------------> True          -------> Output is -2\n",
        "\n",
        "   \n",
        "\n",
        "    #Bitwise left shift  ------------------------------------> True,2        -------> Output is 4\n",
        "\n",
        "\n",
        "\n",
        "    #Bitwise right shift ------------------------------------> True,2        -------> Output is 0\n",
        "\n",
        "\n",
        "\n",
        "#Cross check the output manually\n",
        "\n",
        "print(True&True)\n",
        "print(True|False)\n",
        "print(True^False)\n",
        "print(~True)\n",
        "print(True<<2)\n",
        "print(True>>2)\n",
        "\n",
        "\n",
        "\n",
        "\n",
        "\n",
        "\n",
        "\n"
      ],
      "execution_count": 12,
      "outputs": [
        {
          "output_type": "stream",
          "text": [
            "True\n",
            "True\n",
            "True\n",
            "-2\n",
            "4\n",
            "0\n"
          ],
          "name": "stdout"
        }
      ]
    },
    {
      "cell_type": "code",
      "metadata": {
        "id": "cy5i7sWz4v_c",
        "outputId": "ddd63148-9f7f-4b4d-ef3d-c1f3e70d2275",
        "colab": {
          "base_uri": "https://localhost:8080/",
          "height": 87
        }
      },
      "source": [
        "#What is the output of expression inside print statement. Cross check before running the program.\n",
        "a = True\n",
        "b = True\n",
        "print(a is b)          #True or False?   #\n",
        "print(a is not b)      #True or False?\n",
        "\n",
        "a = False\n",
        "b = False\n",
        "print(a is b)          #True or False?\n",
        "print(a is not b)      #True or False?\n"
      ],
      "execution_count": 13,
      "outputs": [
        {
          "output_type": "stream",
          "text": [
            "True\n",
            "False\n",
            "True\n",
            "False\n"
          ],
          "name": "stdout"
        }
      ]
    },
    {
      "cell_type": "code",
      "metadata": {
        "id": "AOcPQi8544M-",
        "outputId": "28a018b1-9352-4b32-c24d-7c9ce92e607c",
        "colab": {
          "base_uri": "https://localhost:8080/",
          "height": 104
        }
      },
      "source": [
        "#Membership operation\n",
        "#in, not in are two membership operators and it returns boolean value\n",
        "\n",
        "print(True in [10,10.20,10+20j,'Python', True])\n",
        "print(False in (10,10.20,10+20j,'Python', False))\n",
        "print(True in {1,2,3, True})\n",
        "print(True in {True:100, False:200, True:300})\n",
        "print(False in {True:100, False:200, True:300})"
      ],
      "execution_count": 14,
      "outputs": [
        {
          "output_type": "stream",
          "text": [
            "True\n",
            "True\n",
            "True\n",
            "True\n",
            "True\n"
          ],
          "name": "stdout"
        }
      ]
    },
    {
      "cell_type": "code",
      "metadata": {
        "id": "MPa1Lpco46Ja"
      },
      "source": [
        ""
      ],
      "execution_count": null,
      "outputs": []
    }
  ]
}